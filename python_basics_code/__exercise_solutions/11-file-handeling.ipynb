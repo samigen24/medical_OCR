{
 "cells": [
  {
   "cell_type": "markdown",
   "metadata": {
    "id": "iE5ttd3Qh3ZM"
   },
   "source": [
    "# File Handling Exercise\n",
    "\n",
    "Solution"
   ]
  },
  {
   "cell_type": "markdown",
   "metadata": {
    "id": "3NAQCYVOiA0q"
   },
   "source": [
    "### 1. student_marks.csv contains the marks and other details for some students. Write a python program to:\n",
    "- Open the file in read mode\n",
    "- Create dictionary from the given data\n",
    "- Add a new field to the dictionary `total_marks` and store total marks of the students.\n",
    "- Add new field to the dictionary `Average` and store average marks of the students\n",
    "- Sort the data according to the average marks of the students\n",
    "- Create a new file and write this information to the new file\n",
    "\t(https://www.kaggle.com/arunkumar413/student-marks)"
   ]
  },
  {
   "cell_type": "code",
   "execution_count": null,
   "metadata": {
    "id": "tmmX25fjhy4U"
   },
   "outputs": [],
   "source": [
    "# downloading and saving the file\n",
    "# TODO: use the givn link to download the file\n",
    "# TODO: Save the file in the current directory after downloading"
   ]
  },
  {
   "cell_type": "code",
   "execution_count": null,
   "metadata": {
    "id": "F-LG55PmjIqK"
   },
   "outputs": [],
   "source": [
    "# openning the file in read mode\n",
    "f = open('student_marks.csv', 'r')"
   ]
  },
  {
   "cell_type": "code",
   "execution_count": null,
   "metadata": {
    "colab": {
     "base_uri": "https://localhost:8080/",
     "height": 70
    },
    "id": "d8jfJcaR3fZ6",
    "outputId": "a47b639b-525f-4d9a-ac6a-1d0a35803357"
   },
   "outputs": [
    {
     "data": {
      "application/vnd.google.colaboratory.intrinsic+json": {
       "type": "string"
      },
      "text/plain": [
       "',Gender,DOB,Maths,Physics,Chemistry,English,Biology,Economics,History,Civics\\nJohn,M,05/04/1988,55,45,56,87,21,52,89,65\\nSuresh,M,4/5/1987,75,55,,64,90,61,58,2\\nRamesh,M,25/5/1989,25,54,89,76,95,87,56,74\\nJessica,F,12/8/1990,78,55,86,63,54,89,75,45\\nJennifer,F,2/9/1989,58,96,78,46,96,77,83,53'"
      ]
     },
     "execution_count": 20,
     "metadata": {},
     "output_type": "execute_result"
    }
   ],
   "source": [
    "f.read()\n"
   ]
  },
  {
   "cell_type": "code",
   "execution_count": null,
   "metadata": {
    "colab": {
     "base_uri": "https://localhost:8080/",
     "height": 35
    },
    "id": "JUGGakOk3lny",
    "outputId": "483cecc8-0e8c-4338-a943-01ef83dc8610"
   },
   "outputs": [
    {
     "data": {
      "application/vnd.google.colaboratory.intrinsic+json": {
       "type": "string"
      },
      "text/plain": [
       "',Gender,DOB,Maths,Physics,Chemistry,English,Biology,Economics,History,Civics\\n'"
      ]
     },
     "execution_count": 25,
     "metadata": {},
     "output_type": "execute_result"
    }
   ],
   "source": [
    "# creating dictionary\n",
    "f.seek(0)  #goto the start again\n",
    "d = {}\n",
    "keys = f.readline()\n",
    "keys"
   ]
  },
  {
   "cell_type": "code",
   "execution_count": null,
   "metadata": {
    "colab": {
     "base_uri": "https://localhost:8080/"
    },
    "id": "yYO04D7U32cW",
    "outputId": "a665d3c6-8d9c-4162-b5a1-09b0873fd38d"
   },
   "outputs": [
    {
     "data": {
      "text/plain": [
       "['',\n",
       " 'Gender',\n",
       " 'DOB',\n",
       " 'Maths',\n",
       " 'Physics',\n",
       " 'Chemistry',\n",
       " 'English',\n",
       " 'Biology',\n",
       " 'Economics',\n",
       " 'History',\n",
       " 'Civics\\n']"
      ]
     },
     "execution_count": 26,
     "metadata": {},
     "output_type": "execute_result"
    }
   ],
   "source": [
    "keys = keys.split(',')\n",
    "keys"
   ]
  },
  {
   "cell_type": "code",
   "execution_count": null,
   "metadata": {
    "colab": {
     "base_uri": "https://localhost:8080/"
    },
    "id": "aaxnoYQL4Uyz",
    "outputId": "e89a9c0b-1be4-444e-fb3a-b6bed25e0eec"
   },
   "outputs": [
    {
     "name": "stdout",
     "output_type": "stream",
     "text": [
      "{'': [], 'Gender': [], 'DOB': [], 'Maths': [], 'Physics': [], 'Chemistry': [], 'English': [], 'Biology': [], 'Economics': [], 'History': [], 'Civics\\n': []}\n"
     ]
    }
   ],
   "source": [
    "# intializing the dictionary\n",
    "for key in keys:\n",
    "    d[key] = []\n",
    "\n",
    "print(d)"
   ]
  },
  {
   "cell_type": "code",
   "execution_count": null,
   "metadata": {
    "colab": {
     "base_uri": "https://localhost:8080/"
    },
    "id": "Mu62lr4l4zN3",
    "outputId": "702dff7e-d6d8-4c76-d3bb-44c30b78da17"
   },
   "outputs": [
    {
     "name": "stdout",
     "output_type": "stream",
     "text": [
      "{'': ['John', 'Suresh', 'Ramesh', 'Jessica', 'Jennifer'], 'Gender': ['M', 'M', 'M', 'F', 'F'], 'DOB': ['05/04/1988', '4/5/1987', '25/5/1989', '12/8/1990', '2/9/1989'], 'Maths': ['55', '75', '25', '78', '58'], 'Physics': ['45', '55', '54', '55', '96'], 'Chemistry': ['56', '', '89', '86', '78'], 'English': ['87', '64', '76', '63', '46'], 'Biology': ['21', '90', '95', '54', '96'], 'Economics': ['52', '61', '87', '89', '77'], 'History': ['89', '58', '56', '75', '83'], 'Civics\\n': ['65\\n', '2\\n', '74\\n', '45\\n', '53']}\n"
     ]
    }
   ],
   "source": [
    "# Adding data to the dictionary\n",
    "for line in f.readlines():\n",
    "    data = line.split(',')\n",
    "    j = 0\n",
    "    for i in d:\n",
    "        d[i].append(data[j])\n",
    "        j += 1\n",
    "\n",
    "print(d)"
   ]
  },
  {
   "cell_type": "code",
   "execution_count": null,
   "metadata": {
    "colab": {
     "base_uri": "https://localhost:8080/"
    },
    "id": "cdxhn50W5RHq",
    "outputId": "663bb99b-07dd-4254-ad3a-cf22c7e8f4aa"
   },
   "outputs": [
    {
     "name": "stdout",
     "output_type": "stream",
     "text": [
      "{'': ['John', 'Suresh', 'Ramesh', 'Jessica', 'Jennifer'],\n",
      " 'Biology': ['21', '90', '95', '54', '96'],\n",
      " 'Chemistry': ['56', '', '89', '86', '78'],\n",
      " 'Civics\\n': ['65\\n', '2\\n', '74\\n', '45\\n', '53'],\n",
      " 'DOB': ['05/04/1988', '4/5/1987', '25/5/1989', '12/8/1990', '2/9/1989'],\n",
      " 'Economics': ['52', '61', '87', '89', '77'],\n",
      " 'English': ['87', '64', '76', '63', '46'],\n",
      " 'Gender': ['M', 'M', 'M', 'F', 'F'],\n",
      " 'History': ['89', '58', '56', '75', '83'],\n",
      " 'Maths': ['55', '75', '25', '78', '58'],\n",
      " 'Physics': ['45', '55', '54', '55', '96']}\n"
     ]
    }
   ],
   "source": [
    "import pprint\n",
    "pprint.pprint(d)"
   ]
  },
  {
   "cell_type": "code",
   "execution_count": null,
   "metadata": {
    "colab": {
     "base_uri": "https://localhost:8080/"
    },
    "id": "cePwcNe4-AQW",
    "outputId": "0be76e61-a8ea-4b1d-ff9b-76520d968a5c"
   },
   "outputs": [
    {
     "data": {
      "text/plain": [
       "dict_values([['John', 'Suresh', 'Ramesh', 'Jessica', 'Jennifer'], ['M', 'M', 'M', 'F', 'F'], ['05/04/1988', '4/5/1987', '25/5/1989', '12/8/1990', '2/9/1989'], ['55', '75', '25', '78', '58'], ['45', '55', '54', '55', '96'], ['56', '', '89', '86', '78'], ['87', '64', '76', '63', '46'], ['21', '90', '95', '54', '96'], ['52', '61', '87', '89', '77'], ['89', '58', '56', '75', '83'], ['65\\n', '2\\n', '74\\n', '45\\n', '53'], ['John', 'M', '25/5/1989', '78', '96']])"
      ]
     },
     "execution_count": 33,
     "metadata": {},
     "output_type": "execute_result"
    }
   ],
   "source": [
    "d.values()"
   ]
  },
  {
   "cell_type": "code",
   "execution_count": null,
   "metadata": {
    "colab": {
     "base_uri": "https://localhost:8080/"
    },
    "id": "h4JxgeRG5rLB",
    "outputId": "07b5bd39-2eb9-40e0-d1fb-df1ee1a66e31"
   },
   "outputs": [
    {
     "name": "stdout",
     "output_type": "stream",
     "text": [
      "[940, 810, 1112, 1090, 1174]\n"
     ]
    }
   ],
   "source": [
    "# Calculating the total marks\n",
    "d['Total Marks'] = [0]*5\n",
    "for i in range(5):\n",
    "    for key in d:\n",
    "        try:\n",
    "            d['Total Marks'][i] += int(d[key][i])\n",
    "        except:\n",
    "            pass\n",
    "print(d['Total Marks'])\n",
    "    "
   ]
  },
  {
   "cell_type": "code",
   "execution_count": null,
   "metadata": {
    "id": "LoMJvRNY817B"
   },
   "outputs": [],
   "source": []
  }
 ],
 "metadata": {
  "colab": {
   "collapsed_sections": [],
   "name": "11_file_handeling.ipynb",
   "provenance": []
  },
  "kernelspec": {
   "display_name": "Python 3",
   "language": "python",
   "name": "python3"
  },
  "language_info": {
   "codemirror_mode": {
    "name": "ipython",
    "version": 3
   },
   "file_extension": ".py",
   "mimetype": "text/x-python",
   "name": "python",
   "nbconvert_exporter": "python",
   "pygments_lexer": "ipython3",
   "version": "3.8.5"
  }
 },
 "nbformat": 4,
 "nbformat_minor": 1
}
