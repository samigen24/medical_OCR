{
 "cells": [
  {
   "cell_type": "markdown",
   "metadata": {
    "id": "uEZKj1_buw2E"
   },
   "source": [
    "# 2 Numbers\n",
    "\n",
    "Solution of excercise 2"
   ]
  },
  {
   "cell_type": "markdown",
   "metadata": {
    "id": "i0acUhwdu3_c"
   },
   "source": [
    "1. Remember the format() function we have used in the last video?? Now pass 145 and ‘o’ in the function and see what it returned. Try to find out which representation it is.\n"
   ]
  },
  {
   "cell_type": "code",
   "execution_count": null,
   "metadata": {
    "colab": {
     "base_uri": "https://localhost:8080/",
     "height": 35
    },
    "id": "87KwqjR6urq0",
    "outputId": "6bd0ea3d-4ff5-4fa1-f95a-dabb20f2f606"
   },
   "outputs": [
    {
     "data": {
      "application/vnd.google.colaboratory.intrinsic+json": {
       "type": "string"
      },
      "text/plain": [
       "'221'"
      ]
     },
     "execution_count": 1,
     "metadata": {},
     "output_type": "execute_result"
    }
   ],
   "source": [
    "# format function to formate the number\n",
    "format(145, 'o')"
   ]
  },
  {
   "cell_type": "markdown",
   "metadata": {
    "id": "PQP7Zam7vK3s"
   },
   "source": [
    "In the video we did use the 'b' at the second place which stand for `binary representation` of the number.\n",
    "\n",
    "In this eample 'o' stands for `octal representation` of the number.\n",
    "\n",
    "'221' is octal representation of 145. Now go to Google and search octal form of 145 & check if it is correct or not."
   ]
  },
  {
   "cell_type": "markdown",
   "metadata": {
    "id": "N9KmgUDCwDpO"
   },
   "source": [
    "2. There is a circular pond in a village. This pond has a radius of 84meter. Can you find the area of the pond? (Bonus: If there is exactly 1.4 liter of water in a square meter, what is the total amount of the water in the pond?)\n",
    "\n",
    "    Hint:   \n",
    "`Circle Area = πr2`\n"
   ]
  },
  {
   "cell_type": "code",
   "execution_count": null,
   "metadata": {
    "id": "rxR5moTgvFQC"
   },
   "outputs": [],
   "source": [
    "# circular pond\n",
    "radius = 84\n"
   ]
  },
  {
   "cell_type": "markdown",
   "metadata": {
    "id": "g5SNZD84wif7"
   },
   "source": [
    "As we know the formula for calculating the area of circle we can directly apply it in python\n",
    "\n",
    "NOTE: In python ** is used for power operator\n"
   ]
  },
  {
   "cell_type": "code",
   "execution_count": null,
   "metadata": {
    "id": "6ouJwO1fwg_-"
   },
   "outputs": [],
   "source": [
    "pond_area = 3.14 * radius ** 2\n"
   ]
  },
  {
   "cell_type": "markdown",
   "metadata": {
    "id": "2n4dJhrvxBOJ"
   },
   "source": [
    "We know that value of pi(π) is 22/7 which is equal to 3.14"
   ]
  },
  {
   "cell_type": "code",
   "execution_count": null,
   "metadata": {
    "colab": {
     "base_uri": "https://localhost:8080/"
    },
    "id": "ZbyA3ZNHw_y_",
    "outputId": "aad273ac-68de-4a4a-8037-66381323daf4"
   },
   "outputs": [
    {
     "name": "stdout",
     "output_type": "stream",
     "text": [
      "22155.84\n"
     ]
    }
   ],
   "source": [
    "print(pond_area)"
   ]
  },
  {
   "cell_type": "markdown",
   "metadata": {
    "id": "BWx_bcibxUt2"
   },
   "source": [
    "**BONUS**\n",
    "\n",
    "Because there is exactly 1.4 liter of water in 1 square meter. And we know that the total area of pond is `22155.84` square meter.\n",
    "\n",
    "We can get the total amount of water if we multiply the given amount wih given area. "
   ]
  },
  {
   "cell_type": "code",
   "execution_count": null,
   "metadata": {
    "id": "2x9emuvExQlg"
   },
   "outputs": [],
   "source": [
    "per_sqt_meter_water = 1.4"
   ]
  },
  {
   "cell_type": "code",
   "execution_count": null,
   "metadata": {
    "id": "pLYqyVrbx7MP"
   },
   "outputs": [],
   "source": [
    "total_water = pond_area * per_sqt_meter_water"
   ]
  },
  {
   "cell_type": "code",
   "execution_count": null,
   "metadata": {
    "colab": {
     "base_uri": "https://localhost:8080/"
    },
    "id": "uXvh_4styAx0",
    "outputId": "c53f4813-a716-475d-b2e9-38c2f2d8c232"
   },
   "outputs": [
    {
     "name": "stdout",
     "output_type": "stream",
     "text": [
      "31018.176\n"
     ]
    }
   ],
   "source": [
    "print(total_water)"
   ]
  },
  {
   "cell_type": "markdown",
   "metadata": {
    "id": "RoLaUW48yDtn"
   },
   "source": [
    "There is total `31018.176` liter water in the pond.\n",
    "\n",
    "See, Programming is really fun you just calculated the total water in your village's pond. 😂"
   ]
  },
  {
   "cell_type": "markdown",
   "metadata": {
    "id": "wWC4QNX2ybca"
   },
   "source": [
    "3. \n",
    "If you cross a 490-meter-long street in 7 minutes, then what is your speed in meter per seconds. Print your answer without any decimal point in it.\n",
    "        Hint:\n",
    "        Speed = Distance / Time\n"
   ]
  },
  {
   "cell_type": "code",
   "execution_count": null,
   "metadata": {
    "id": "oJjPPaD3yCI0"
   },
   "outputs": [],
   "source": [
    "street_lenght = 490\n",
    "time = 7 * 60"
   ]
  },
  {
   "cell_type": "markdown",
   "metadata": {
    "id": "QQElZjNzyvsV"
   },
   "source": [
    "Because Time is given in minutes ie. `7 minurtes` and we have to calculate the speed in meter pre seconds. so we need to convert the time into seconds.\n",
    "\n",
    "We know there are 60 seconds in one minute. we can calculate the total seconds in 7 minutes by simply muliply it with 60\n",
    "\n",
    "Let's see how many seconds are in 7 minutes"
   ]
  },
  {
   "cell_type": "code",
   "execution_count": null,
   "metadata": {
    "colab": {
     "base_uri": "https://localhost:8080/"
    },
    "id": "Lwp96pP3yuMX",
    "outputId": "70393a72-8d15-4d8d-f58e-44db8c66a69c"
   },
   "outputs": [
    {
     "data": {
      "text/plain": [
       "420"
      ]
     },
     "execution_count": 9,
     "metadata": {},
     "output_type": "execute_result"
    }
   ],
   "source": [
    "time"
   ]
  },
  {
   "cell_type": "markdown",
   "metadata": {
    "id": "PG0OqbrVzS8d"
   },
   "source": [
    "there are total 420 seconds"
   ]
  },
  {
   "cell_type": "code",
   "execution_count": null,
   "metadata": {
    "id": "4BGtAd-EzRMe"
   },
   "outputs": [],
   "source": [
    "speed = street_lenght / time"
   ]
  },
  {
   "cell_type": "markdown",
   "metadata": {
    "id": "LxS0BQRezgef"
   },
   "source": [
    "Applying the formula to calculate the speed"
   ]
  },
  {
   "cell_type": "code",
   "execution_count": null,
   "metadata": {
    "colab": {
     "base_uri": "https://localhost:8080/"
    },
    "id": "aEv7489JzfSc",
    "outputId": "082aea44-ea1c-48b9-fa15-8c90db67e7d4"
   },
   "outputs": [
    {
     "name": "stdout",
     "output_type": "stream",
     "text": [
      "1.1666666666666667\n"
     ]
    }
   ],
   "source": [
    "print(speed)"
   ]
  },
  {
   "cell_type": "markdown",
   "metadata": {
    "id": "DaDKT21Qzo6d"
   },
   "source": [
    "The speed is 1.6666... meter per second\n",
    "\n",
    "A lot of values after decimal, right?\n",
    "\n",
    "let's print it without decimal"
   ]
  },
  {
   "cell_type": "code",
   "execution_count": null,
   "metadata": {
    "colab": {
     "base_uri": "https://localhost:8080/"
    },
    "id": "yr6Yb_Rzzldt",
    "outputId": "f5359120-f782-415c-9fbe-c6b9abf4e29d"
   },
   "outputs": [
    {
     "name": "stdout",
     "output_type": "stream",
     "text": [
      "1\n"
     ]
    }
   ],
   "source": [
    "print(round(speed))"
   ]
  },
  {
   "cell_type": "code",
   "execution_count": null,
   "metadata": {
    "id": "MGkL8Tss0GZo"
   },
   "outputs": [],
   "source": []
  },
  {
   "cell_type": "markdown",
   "metadata": {
    "id": "cI2DT1Ry0Iqf"
   },
   "source": [
    "Thank you,\n",
    "\n",
    "Happy Coding!"
   ]
  },
  {
   "cell_type": "code",
   "execution_count": null,
   "metadata": {
    "id": "LJOhDYCK0L6A"
   },
   "outputs": [],
   "source": []
  }
 ],
 "metadata": {
  "colab": {
   "collapsed_sections": [],
   "name": "2_Numbers.ipynb",
   "provenance": []
  },
  "kernelspec": {
   "display_name": "Python 3",
   "language": "python",
   "name": "python3"
  },
  "language_info": {
   "codemirror_mode": {
    "name": "ipython",
    "version": 3
   },
   "file_extension": ".py",
   "mimetype": "text/x-python",
   "name": "python",
   "nbconvert_exporter": "python",
   "pygments_lexer": "ipython3",
   "version": "3.8.5"
  }
 },
 "nbformat": 4,
 "nbformat_minor": 1
}
